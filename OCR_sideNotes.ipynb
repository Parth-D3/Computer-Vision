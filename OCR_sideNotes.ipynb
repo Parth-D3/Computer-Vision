{
 "cells": [
  {
   "cell_type": "code",
   "execution_count": 3,
   "metadata": {},
   "outputs": [
    {
     "name": "stdout",
     "output_type": "stream",
     "text": [
      "786\n",
      "Ez, 13, 5.\n",
      "£117.\n",
      "\n",
      "Ez, 8, 18. 19.\n",
      "\n",
      "Toh. 10, 11.\n",
      "\n",
      "Tudae 12.\n",
      "‘Matth. 25, 21.\n",
      "\n",
      "1, Petr. 5,3.\n",
      "\n",
      "\"fay.\n",
      "\n",
      "ef, Lue, 12,\n",
      "35.\n",
      "\n",
      "“col. 578,\n",
      "\n",
      "Matth. 23,27,\n",
      "Math. 6, 1.\n",
      "\n"
     ]
    },
    {
     "data": {
      "text/plain": [
       "True"
      ]
     },
     "execution_count": 3,
     "metadata": {},
     "output_type": "execute_result"
    }
   ],
   "source": [
    "import pytesseract\n",
    "import cv2\n",
    "\n",
    "\n",
    "image = cv2.imread('data/sample_mgh_2.jpg')\n",
    "base_image = image.copy()\n",
    "\n",
    "gray = cv2.cvtColor(image, cv2.COLOR_BGR2GRAY)\n",
    "blur = cv2.GaussianBlur(gray, (7,7), 0)\n",
    "thresh = cv2.threshold(blur, 0, 255, cv2.THRESH_BINARY_INV + cv2.THRESH_OTSU)[1]\n",
    "\n",
    "# Create rectangular structuring element and dilate\n",
    "kernel = cv2.getStructuringElement(cv2.MORPH_RECT, (3,25))\n",
    "dilate = cv2.dilate(thresh, kernel, iterations=1)\n",
    "\n",
    "# Find contours and draw rectangle\n",
    "cnts = cv2.findContours(dilate, cv2.RETR_EXTERNAL, cv2.CHAIN_APPROX_SIMPLE)\n",
    "cnts = cnts[0] if len(cnts) == 2 else cnts[1]\n",
    "cnts = sorted(cnts, key=lambda x: cv2.boundingRect(x)[1])\n",
    "main_text = \"\"\n",
    "for c in cnts:\n",
    "    x,y,w,h = cv2.boundingRect(c)\n",
    "    if h > 200 and w > 250:\n",
    "        roi = base_image[y:y+h, 0:x]\n",
    "#         cv2.rectangle(image, (0, y), (x, 0 + h+20), (36,255,12), 2)\n",
    "        \n",
    "        constant= cv2.copyMakeBorder(roi.copy(),30,30,30,30,cv2.BORDER_CONSTANT,value=[255,255,255])\n",
    "        ocr_result = pytesseract.image_to_string(constant)\n",
    "        cv2.imwrite(\"temp/output.png\", roi)\n",
    "        \n",
    "        print (ocr_result)\n",
    "cv2.imwrite(\"temp/output.png\", image)"
   ]
  },
  {
   "cell_type": "code",
   "execution_count": 5,
   "metadata": {},
   "outputs": [],
   "source": [
    "ocr_result = pytesseract.image_to_string(base_image)"
   ]
  },
  {
   "cell_type": "code",
   "execution_count": 6,
   "metadata": {},
   "outputs": [
    {
     "name": "stdout",
     "output_type": "stream",
     "text": [
      "22 ALCVINI EPISTOLAE. 3.\n",
      "\n",
      "786 amicitiam secularem, peccantes non arguunt, ut pravi pastores non habentes curam\n",
      "de ovibus et videntes lupum fugiunt: cur magis non pertimescunt principem principum,\n",
      "regem regum, dominum dominantium? qui per prophetam pastores increpat dicens:\n",
      "\n",
      "Fz. 13,5.‘Non ascendistis ex adverso neque opposuistis murum, ut staretis in proelio in die\n",
      "Domini’, Denique sicut pervigil pastor contra bestias oves custodire solet, ita Dei\n",
      "sacerdos super gregem Christi sollicitus esse debet, ne inimicus vastet, ne persecutor\n",
      "\n",
      "*s. 117. *infestet, ne potentioris cuiusque cupiditas vitam pauperum inquietet, dicente propheta:\n",
      "\n",
      "Ez. 3, 18.19.‘Si non adnuntiaveris iniquo iniquitatem suam, sanguinem eius de manu tua requiram;\n",
      "\n",
      "si autem adnuntiaveris et non egerit poenitentiam, tu animam tuam liberasti, ipse in\n",
      "\n",
      "Ich. 10,11. peccato suo morietur’. ‘Pastor namque bonus animam suam dat pro ovibus suis.’\n",
      "\n",
      "Haec namque recolentes, patres mei et fratres, operam date, ne de vobis dicatur ut\n",
      "\n",
      "matics 2: pastoribus Israel, qui pascunt semetipsos et reliqua, sed audire mereamini: ‘Euge\n",
      "serve bone et fidelis, intra in gaudium Domini tui’.\n",
      "\n",
      "ILI. Quartus sermo, ut episcopi diligenti cura prevideant, quo omnes canonici\n",
      "sui canonice vivant et monachi seu monachae regulariter conversentur, tam in cibis\n",
      "quam in vestibus seu peculiare, ut discretio sit inter canonicum et monachum vel\n",
      "secularem et illo habitu vivant, quo orientales monachi degunt et canonici exemplo\n",
      "orientalium et non tinctis Indie coloribus aut veste preciosa, sed episcopi, abbates et\n",
      "\n",
      "1. Petr, 5,3, abbatissae subiectis sibi in omnibus exemplum bonum prebeant, ut Petrus ait: ‘Estote\n",
      "forma facti gregis secundum Deum’ et cet. Qua de re suademus, ut synodalia edicta\n",
      "\n",
      "*e. 7, universalium sex conciliorum* cum decretis pontificum Romanorum sepius lectitentur,\n",
      "observentur et iuxta eorum exemplar ecclesiae status corrigatur, ut nec quid novi ab\n",
      "aliquibus introduci permittatur, ne sit scisma in ecclesia Dei.\n",
      "\n",
      "V. Quintum caput admonet, ut si, quod sepe evenire solet, abbas aut abbatissa\n",
      "de hac luce migraverint, tunc cum consilio episcopi, cuius in parroechia ipsum\n",
      "monasterium situm est, probatae vite et religiosi secundum Deum ex ipsis eligantur*\n",
      "pastores, qui sollicite animarum sibi commissarum [curam”] gerant. Si autem infra\n",
      "cenobio illo talis vir minime repperitur, de alio eis cenobio talis mittatur, qui eos\n",
      "secundum Deum gubernare queat, ut votum quod Deo voverunt in omni humilitate et\n",
      "\n",
      "ot. Lue. 12, oboedientia die noctuque implere satagant*, parati semper precinctis lumbis ardenti-\n",
      "busque lucernis patremfamilias expectantes, ut dum vigilantes invenerit, faciat eos\n",
      "aeterni convivii esse participes.\n",
      "\n",
      "VI. Sextum decretum, ut nullus episcoporum presbiterum aut diaconum ordinare\n",
      "presumat, nisi probatae vitae fuerint et officium suum rite implere possint, et in illo\n",
      "titulo perseverent, ad quem consecrati sunt, ita ut nullus de alterius titulo presbiterum\n",
      "\n",
      "“col. 57, aut diaconum suscipere presumat absque?* causa rationabili et literis commendaticiis.\n",
      "\n",
      "VII. Septimo capitulo, ut omnes ecclesiae publice canonicis horis cursum suum\n",
      "cum reverentia habeant.\n",
      "\n",
      "VIII. Octavo statuto, ut privilegia antiqua a sancta Romana sede delata ecclesiis\n",
      "omnimodis conserventur. Si qua autem propter assensum pravorum hominum contra\n",
      "canonica instituta conscripta sunt, avellantur.\n",
      "\n",
      "VIILI. Nono capite, ut nullus ex ecclesiasticis cibum in secreto sumere audeat,\n",
      "nisi pre nimia infirmitate, quia hypocrisis et Saracenorum est. Ideo hortamur, ut non\n",
      "\n",
      "Matth.23,97,8imus forinsecus sepulchra dealbata, intus autem pleni cadaveribus mortuorum,\n",
      "Matth. 6,1,maxime cum Salvator dicit: ‘Attendite ne iusticiam vestram faciatis coram hominibus,\n",
      "ut videamini ab eis, alioquin mercedem non habetis apud patrem vestrum, qui in\n",
      "\n",
      "8. *) elegantur C >) om, C, add, Cent. °) sategant C 4) his verbis finitur fol. 117,\n",
      "folia 118 — 125 desunt, quae secuntur Centuriatores soli col, 678—585 nobis servaverunt.\n",
      "\n",
      "5\n",
      "\n",
      "25\n",
      "\n",
      "35\n",
      "\n"
     ]
    }
   ],
   "source": [
    "print (ocr_result)"
   ]
  },
  {
   "cell_type": "code",
   "execution_count": 7,
   "metadata": {},
   "outputs": [],
   "source": [
    "lines = ocr_result.split(\"\\n\\n\")"
   ]
  },
  {
   "cell_type": "code",
   "execution_count": 8,
   "metadata": {},
   "outputs": [
    {
     "name": "stdout",
     "output_type": "stream",
     "text": [
      "[]\n",
      "['peccantes non arguunt', 'ut pravi pastores non habentes curam\\nde ovibus et videntes lupum fugiunt: cur magis non pertimescunt principem principum', 'regem regum', 'dominum dominantium? qui per prophetam pastores increpat dicens:']\n",
      "['ut staretis in proelio in die\\nDomini’', 'Denique sicut pervigil pastor contra bestias oves custodire solet', 'ita Dei\\nsacerdos super gregem Christi sollicitus esse debet', 'ne inimicus vastet', 'ne persecutor']\n",
      "['ne potentioris cuiusque cupiditas vitam pauperum inquietet', 'dicente propheta:']\n",
      "['sanguinem eius de manu tua requiram;']\n",
      "['si autem adnuntiaveris et non egerit poenitentiam', 'tu animam tuam liberasti', 'ipse in']\n",
      "[]\n",
      "['Haec namque recolentes', 'patres mei et fratres', 'operam date', 'ne de vobis dicatur ut']\n",
      "['qui pascunt semetipsos et reliqua', 'sed audire mereamini: ‘Euge\\nserve bone et fidelis', 'intra in gaudium Domini tui’.']\n",
      "['ILI. Quartus sermo', 'ut episcopi diligenti cura prevideant', 'quo omnes canonici\\nsui canonice vivant et monachi seu monachae regulariter conversentur', 'tam in cibis\\nquam in vestibus seu peculiare', 'ut discretio sit inter canonicum et monachum vel\\nsecularem et illo habitu vivant', 'quo orientales monachi degunt et canonici exemplo\\norientalium et non tinctis Indie coloribus aut veste preciosa', 'sed episcopi', 'abbates et']\n",
      "['abbatissae subiectis sibi in omnibus exemplum bonum prebeant', 'ut Petrus ait: ‘Estote\\nforma facti gregis secundum Deum’ et cet. Qua de re suademus', 'ut synodalia edicta']\n",
      "['universalium sex conciliorum* cum decretis pontificum Romanorum sepius lectitentur', 'observentur et iuxta eorum exemplar ecclesiae status corrigatur', 'ut nec quid novi ab\\naliquibus introduci permittatur', 'ne sit scisma in ecclesia Dei.']\n",
      "['V. Quintum caput admonet', 'ut si', 'quod sepe evenire solet', 'abbas aut abbatissa\\nde hac luce migraverint', 'tunc cum consilio episcopi', 'cuius in parroechia ipsum\\nmonasterium situm est', 'probatae vite et religiosi secundum Deum ex ipsis eligantur*\\npastores', 'qui sollicite animarum sibi commissarum [curam”] gerant. Si autem infra\\ncenobio illo talis vir minime repperitur', 'de alio eis cenobio talis mittatur', 'qui eos\\nsecundum Deum gubernare queat', 'ut votum quod Deo voverunt in omni humilitate et']\n",
      "['oboedientia die noctuque implere satagant*', 'parati semper precinctis lumbis ardenti-\\nbusque lucernis patremfamilias expectantes', 'ut dum vigilantes invenerit', 'faciat eos\\naeterni convivii esse participes.']\n",
      "['VI. Sextum decretum', 'ut nullus episcoporum presbiterum aut diaconum ordinare\\npresumat', 'nisi probatae vitae fuerint et officium suum rite implere possint', 'et in illo\\ntitulo perseverent', 'ad quem consecrati sunt', 'ita ut nullus de alterius titulo presbiterum']\n",
      "['aut diaconum suscipere presumat absque?* causa rationabili et literis commendaticiis.']\n",
      "['VII. Septimo capitulo', 'ut omnes ecclesiae publice canonicis horis cursum suum\\ncum reverentia habeant.']\n",
      "['VIII. Octavo statuto', 'ut privilegia antiqua a sancta Romana sede delata ecclesiis\\nomnimodis conserventur. Si qua autem propter assensum pravorum hominum contra\\ncanonica instituta conscripta sunt', 'avellantur.']\n",
      "['VIILI. Nono capite', 'ut nullus ex ecclesiasticis cibum in secreto sumere audeat', 'nisi pre nimia infirmitate', 'quia hypocrisis et Saracenorum est. Ideo hortamur', 'ut non']\n",
      "['intus autem pleni cadaveribus mortuorum', 'maxime cum Salvator dicit: ‘Attendite ne iusticiam vestram faciatis coram hominibus', 'ut videamini ab eis', 'alioquin mercedem non habetis apud patrem vestrum', 'qui in']\n",
      "['C', 'add', 'quae secuntur Centuriatores soli col']\n",
      "[]\n"
     ]
    }
   ],
   "source": [
    "for line in lines:\n",
    "    temp_line = line.replace(\",\", \"\")\n",
    "    if temp_line.isdigit():\n",
    "        pass\n",
    "    else:\n",
    "        components = []\n",
    "        segs = line.split(\",\")\n",
    "        for seg in segs:\n",
    "            seg = seg.strip()\n",
    "            num = False\n",
    "            for character in seg:\n",
    "                if character.isdigit():\n",
    "                    num = True\n",
    "            if num == False:\n",
    "                components.append(seg)\n",
    "        print (components)\n",
    "        "
   ]
  }
 ],
 "metadata": {
  "kernelspec": {
   "display_name": "Python 3 (ipykernel)",
   "language": "python",
   "name": "python3"
  },
  "language_info": {
   "codemirror_mode": {
    "name": "ipython",
    "version": 3
   },
   "file_extension": ".py",
   "mimetype": "text/x-python",
   "name": "python",
   "nbconvert_exporter": "python",
   "pygments_lexer": "ipython3",
   "version": "3.9.12"
  }
 },
 "nbformat": 4,
 "nbformat_minor": 4
}
